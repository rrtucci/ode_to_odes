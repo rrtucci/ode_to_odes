{
 "cells": [
  {
   "cell_type": "markdown",
   "metadata": {},
   "source": [
    "# SUMMARY notebook\n",
    "\n",
    "This notebook scans the directory in which it lives to find all jupyter notebooks (other than itself) in that directory. It then prints for every notebook it finds (1) a hyperlink to the notebook, and (2) the first cell (which is always markdown) of the notebook. This way you can read a nice, automatically generated summary of all the notebooks without having to open all of them. If you find a notebook that you want to explore further, you can simply click on its link to open it."
   ]
  },
  {
   "cell_type": "code",
   "execution_count": 1,
   "metadata": {},
   "outputs": [
    {
     "data": {
      "text/markdown": [
       "\n",
       "\n",
       "<hr style=\"height:10px; background-color: blue;\">\n",
       "\n",
       "fitz-naguno.ipynb [<a href=\"fitz-naguno.ipynb\" target= \"_blank\">local link</a>]  [<a href=\"https://github.com/rrtucci/Bayes_Petri_Net/blob/master/jupyter_notebooks/fitz-naguno.ipynb\">github link</a>] 1/3\n",
       "\n",
       "# FitzHugh Naguno\n",
       "\n",
       "![FritHugh-Naguno](../pics/fritz-naguno.png)\n",
       "\n",
       "$$\\left\\{\n",
       "\\begin{array}{l}\n",
       "\\dot{x} = x - \\frac{x^3}{3} - y + R\n",
       "\\\\\n",
       "\\dot{y} = \\frac{1}{\\tau} (x - a -b y)\n",
       "\\end{array}\n",
       "\\right.$$\n",
       "\n",
       "<hr style=\"height:10px; background-color: blue;\">\n",
       "\n",
       "genetic-toggle-switch.ipynb [<a href=\"genetic-toggle-switch.ipynb\" target= \"_blank\">local link</a>]  [<a href=\"https://github.com/rrtucci/Bayes_Petri_Net/blob/master/jupyter_notebooks/genetic-toggle-switch.ipynb\">github link</a>] 2/3\n",
       "\n",
       "#  Genetic Toggle Switch\n",
       "\n",
       "![genetic-switch](../pics/genetic-switch.png)\n",
       "\n",
       "$$\\left\\{\n",
       "\\begin{array}{l}\n",
       "\\dot{x} = \\frac{\\alpha_1}{1 + z^n} - x\n",
       "\\\\\n",
       " \\dot{y} = \\frac{\\alpha_2}{1 + x^m} - y\n",
       " \\\\ \n",
       " \\dot{z} = \\frac{\\alpha_3}{1 + y^p} - z,\n",
       "\\end{array}\n",
       "\\right.$$\n",
       "\n",
       "<hr style=\"height:10px; background-color: blue;\">\n",
       "\n",
       "lorenz.ipynb [<a href=\"lorenz.ipynb\" target= \"_blank\">local link</a>]  [<a href=\"https://github.com/rrtucci/Bayes_Petri_Net/blob/master/jupyter_notebooks/lorenz.ipynb\">github link</a>] 3/3\n",
       "\n",
       "# Lorenz system\n",
       "![lorenz](../pics/lorenz.png)\n",
       "\n",
       "$$\\left\\{\n",
       "\\begin{array}{l}\n",
       "\\dot{x} = \\sigma (y - x)\n",
       "\\\\\n",
       "\\dot{y} = x(\\rho - z) - y\n",
       "\\\\ \n",
       "\\dot{z} = xy - \\beta z\n",
       "\\end{array}\n",
       "\\right.$$"
      ],
      "text/plain": [
       "<IPython.core.display.Markdown object>"
      ]
     },
     "metadata": {},
     "output_type": "display_data"
    }
   ],
   "source": [
    "# Version: 2\n",
    "import os\n",
    "import json\n",
    "from IPython.display import display, Markdown\n",
    "\n",
    "# the name of this file\n",
    "this_fname = 'SUMMARY.ipynb'\n",
    "fname_to_md = {}\n",
    "for fname in sorted([x for x in os.listdir('./')]):\n",
    "    if fname[-6:] == '.ipynb'  and fname != this_fname:\n",
    "        # print('------------', fname)\n",
    "        with open(fname, 'r', encoding=\"utf-8\") as f:\n",
    "            fdata = json.load(f)\n",
    "            fname_to_md[fname] = ''.join(fdata['cells'][0]['source'])\n",
    "# print(fname_to_md)\n",
    "pre_sep = '\\n\\n<hr style=\"height:10px; background-color: blue;\">\\n\\n'\n",
    "full_md = ''\n",
    "k = 1\n",
    "num_nb = len(fname_to_md)\n",
    "project_name =\"Bayes_Petri_Net\"\n",
    "who =\"rrtucci\"\n",
    "where = \"jupyter_notebooks\"\n",
    "for fname, md in fname_to_md.items():\n",
    "    sep = pre_sep\n",
    "    local_link = f' [<a href=\"{fname}\" target= \"_blank\">local link</a>] '\n",
    "    github_link = f' [<a href=\"https://github.com/{who}/{project_name}/blob/master/{where}/' +\\\n",
    "        f'{fname}\">github link</a>] '\n",
    "    sep += fname + local_link + github_link + str(k) + '/' + str(num_nb) + '\\n\\n'\n",
    "    full_md += sep + md\n",
    "    k += 1\n",
    "display(Markdown(full_md))"
   ]
  }
 ],
 "metadata": {
  "kernelspec": {
   "display_name": "Python 3 (ipykernel)",
   "language": "python",
   "name": "python3"
  },
  "language_info": {
   "codemirror_mode": {
    "name": "ipython",
    "version": 3
   },
   "file_extension": ".py",
   "mimetype": "text/x-python",
   "name": "python",
   "nbconvert_exporter": "python",
   "pygments_lexer": "ipython3",
   "version": "3.10.9"
  }
 },
 "nbformat": 4,
 "nbformat_minor": 4
}
