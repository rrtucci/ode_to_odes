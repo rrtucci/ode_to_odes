{
 "cells": [
  {
   "cell_type": "markdown",
   "metadata": {},
   "source": [
    "# SUMMARY notebook\n",
    "\n",
    "This notebook scans the directory in which it lives to find all jupyter notebooks (other than itself) in that directory. It then prints for every notebook it finds (1) a hyperlink to the notebook, and (2) the first cell (which is always markdown) of the notebook. This way you can read a nice, automatically generated summary of all the notebooks without having to open all of them. If you find a notebook that you want to explore further, you can simply click on its link to open it."
   ]
  },
  {
   "cell_type": "code",
   "execution_count": 1,
   "metadata": {},
   "outputs": [
    {
     "data": {
      "text/markdown": [
       "\n",
       "\n",
       "<hr style=\"height:10px; background-color: blue;\">\n",
       "\n",
       "BPN_conditioned_wet_grass.ipynb [<a href=\"BPN_conditioned_wet_grass.ipynb\" target= \"_blank\">local link</a>]  [<a href=\"https://github.com/rrtucci/Bayes_Petri_Net/blob/master/jupyter_notebooks/BPN_conditioned_wet_grass.ipynb\">github link</a>] 1/5\n",
       "\n",
       "# BPN Conditioned Wet Grass\n",
       "\n",
       "This notebook tests the class BayesPetriNet (BPN) based on the famous \"Wet Grass\" Bayesian network (a diamond with an arrow from the east to the west node.)\n",
       "We fire a single transition \"b\". We also fire the transition sequence [\"a\", \"b\", \"c\", \"d\"] This notebook differs from \"BPN_wet_grass.ipynb\" in that here we condition on node \"d\".\n",
       "\n",
       "<hr style=\"height:10px; background-color: blue;\">\n",
       "\n",
       "BPN_wet_grass.ipynb [<a href=\"BPN_wet_grass.ipynb\" target= \"_blank\">local link</a>]  [<a href=\"https://github.com/rrtucci/Bayes_Petri_Net/blob/master/jupyter_notebooks/BPN_wet_grass.ipynb\">github link</a>] 2/5\n",
       "\n",
       "# BPN Wet Grass\n",
       "\n",
       "This notebook tests the class BayesPetriNet (BPN) based on the famous \"Wet Grass\" Bayesian network (a diamond with an arrow from the east to the west node.)\n",
       "We fire a single transition \"b\". We also fire transition sequence [\"a\", \"b\", \"c\", \"d\"]\n",
       "\n",
       "<hr style=\"height:10px; background-color: blue;\">\n",
       "\n",
       "petri_fork.ipynb [<a href=\"petri_fork.ipynb\" target= \"_blank\">local link</a>]  [<a href=\"https://github.com/rrtucci/Bayes_Petri_Net/blob/master/jupyter_notebooks/petri_fork.ipynb\">github link</a>] 3/5\n",
       "\n",
       "# Petri Net fork\n",
       "\n",
       "This notebook tests the class PetriNet for a simple fork shaped Petri net.\n",
       "We fire a single transition \"x1\". We also fire the transition sequence\n",
       "[\"x2\", \"x2\"], i.e., x2 fired twice.\n",
       "\n",
       "<hr style=\"height:10px; background-color: blue;\">\n",
       "\n",
       "petri_loop.ipynb [<a href=\"petri_loop.ipynb\" target= \"_blank\">local link</a>]  [<a href=\"https://github.com/rrtucci/Bayes_Petri_Net/blob/master/jupyter_notebooks/petri_loop.ipynb\">github link</a>] 4/5\n",
       "\n",
       "# Petri Net loop\n",
       "\n",
       "This notebook tests the class PetriNet for a Petri net with a single feedback loop.\n",
       "We fire a single transition \"x2\". We also fire the transition sequence [\"x1\", \"x2\", \"x3\", \"x4\"]\n",
       "\n",
       "<hr style=\"height:10px; background-color: blue;\">\n",
       "\n",
       "widget_experiments.ipynb [<a href=\"widget_experiments.ipynb\" target= \"_blank\">local link</a>]  [<a href=\"https://github.com/rrtucci/Bayes_Petri_Net/blob/master/jupyter_notebooks/widget_experiments.ipynb\">github link</a>] 5/5\n",
       "\n",
       "# Widget experiments\n",
       "This notebook was used to debug the step button widget."
      ],
      "text/plain": [
       "<IPython.core.display.Markdown object>"
      ]
     },
     "metadata": {},
     "output_type": "display_data"
    }
   ],
   "source": [
    "# Version: 2\n",
    "import os\n",
    "import json\n",
    "from IPython.display import display, Markdown\n",
    "\n",
    "# the name of this file\n",
    "this_fname = 'SUMMARY.ipynb'\n",
    "fname_to_md = {}\n",
    "for fname in sorted([x for x in os.listdir('./')]):\n",
    "    if fname[-6:] == '.ipynb'  and fname != this_fname:\n",
    "        # print('------------', fname)\n",
    "        with open(fname, 'r', encoding=\"utf-8\") as f:\n",
    "            fdata = json.load(f)\n",
    "            fname_to_md[fname] = ''.join(fdata['cells'][0]['source'])\n",
    "# print(fname_to_md)\n",
    "pre_sep = '\\n\\n<hr style=\"height:10px; background-color: blue;\">\\n\\n'\n",
    "full_md = ''\n",
    "k = 1\n",
    "num_nb = len(fname_to_md)\n",
    "project_name =\"Bayes_Petri_Net\"\n",
    "who =\"rrtucci\"\n",
    "where = \"jupyter_notebooks\"\n",
    "for fname, md in fname_to_md.items():\n",
    "    sep = pre_sep\n",
    "    local_link = f' [<a href=\"{fname}\" target= \"_blank\">local link</a>] '\n",
    "    github_link = f' [<a href=\"https://github.com/{who}/{project_name}/blob/master/{where}/' +\\\n",
    "        f'{fname}\">github link</a>] '\n",
    "    sep += fname + local_link + github_link + str(k) + '/' + str(num_nb) + '\\n\\n'\n",
    "    full_md += sep + md\n",
    "    k += 1\n",
    "display(Markdown(full_md))"
   ]
  }
 ],
 "metadata": {
  "kernelspec": {
   "display_name": "Python 3 (ipykernel)",
   "language": "python",
   "name": "python3"
  },
  "language_info": {
   "codemirror_mode": {
    "name": "ipython",
    "version": 3
   },
   "file_extension": ".py",
   "mimetype": "text/x-python",
   "name": "python",
   "nbconvert_exporter": "python",
   "pygments_lexer": "ipython3",
   "version": "3.10.9"
  }
 },
 "nbformat": 4,
 "nbformat_minor": 4
}
