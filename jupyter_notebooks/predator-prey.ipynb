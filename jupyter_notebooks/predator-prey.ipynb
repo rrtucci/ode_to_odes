{
 "cells": [
  {
   "cell_type": "markdown",
   "id": "63b78dbc-e823-4134-9105-69bc2acf35c7",
   "metadata": {},
   "source": [
    "# Predator-Prey model\n",
    "\n",
    "![predator-prey](../pics/predator-prey.png)\n",
    "$\\left\\{\n",
    "\\begin{array}{l}\n",
    "\\dot{x} = \\alpha x -\\beta xy\n",
    "\\\\\n",
    "\\dot{y} = -\\gamma y + \\delta xy\n",
    "\\end{array}\n",
    "\\right.$"
   ]
  },
  {
   "cell_type": "code",
   "execution_count": null,
   "id": "ea23d942-324d-44bd-88da-362de637f3a8",
   "metadata": {},
   "outputs": [],
   "source": []
  }
 ],
 "metadata": {
  "kernelspec": {
   "display_name": "Python 3 (ipykernel)",
   "language": "python",
   "name": "python3"
  },
  "language_info": {
   "codemirror_mode": {
    "name": "ipython",
    "version": 3
   },
   "file_extension": ".py",
   "mimetype": "text/x-python",
   "name": "python",
   "nbconvert_exporter": "python",
   "pygments_lexer": "ipython3",
   "version": "3.10.9"
  }
 },
 "nbformat": 4,
 "nbformat_minor": 5
}
