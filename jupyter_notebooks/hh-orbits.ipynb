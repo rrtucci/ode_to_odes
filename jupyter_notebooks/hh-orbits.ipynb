{
 "cells": [
  {
   "cell_type": "markdown",
   "id": "b4bd5fde-4b0b-449e-baa3-8b3b0ba9c2da",
   "metadata": {
    "jupyter": {
     "source_hidden": true
    },
    "tags": []
   },
   "source": [
    "# Homoclinic and Heteroclinic orbits\n",
    "\n",
    "from ChatGPT\n",
    "\n",
    "The simplest differential equations that exhibit **homoclinic** and **heteroclinic** orbits come from **dynamical systems with saddle equilibria**. Below are examples of such systems:\n",
    "\n",
    "---\n",
    "\n",
    "### **1. Homoclinic Orbit Example**\n",
    "A simple **nonlinear** system with a homoclinic orbit is:\n",
    "\n",
    "\\[\n",
    "\\frac{dx}{dt} = y\n",
    "\\]\n",
    "\n",
    "\\[\n",
    "\\frac{dy}{dt} = x - x^3\n",
    "\\]\n",
    "\n",
    "#### **Explanation:**\n",
    "- The fixed points of this system are at \\( x = 0, y = 0 \\).\n",
    "- The **energy function** (Hamiltonian-like quantity) is:\n",
    "\n",
    "  \\[\n",
    "  H(x, y) = \\frac{y^2}{2} + \\frac{x^4}{4} - \\frac{x^2}{2}\n",
    "  \\]\n",
    "\n",
    "- The phase portrait contains a **homoclinic orbit** around the saddle point \\( (0,0) \\), where a trajectory leaves and returns to the same equilibrium.\n",
    "\n",
    "---\n",
    "\n",
    "### **2. Heteroclinic Orbit Example**\n",
    "A simple system with a **heteroclinic connection** is:\n",
    "\n",
    "\\[\n",
    "\\frac{dx}{dt} = x(1 - x^2 - y^2)\n",
    "\\]\n",
    "\n",
    "\\[\n",
    "\\frac{dy}{dt} = y(1 - x^2 - y^2)\n",
    "\\]\n",
    "\n",
    "#### **Explanation:**\n",
    "- This system has **three fixed points** at:\n",
    "  - \\( (0,0) \\) (a saddle point)\n",
    "  - \\( (1,0) \\) and \\( (-1,0) \\) (both saddle points)\n",
    "- The **heteroclinic orbits** connect the two saddle points \\( (-1,0) \\) and \\( (1,0) \\).\n",
    "- These orbits exist along the **separatrix**, where trajectories transfer from one equilibrium to another.\n",
    "\n",
    "---\n",
    "\n",
    "### **Key Observations**\n",
    "- The **homoclinic orbit** happens when a trajectory leaves a saddle and returns to it.\n",
    "- The **heteroclinic orbit** happens when a trajectory connects two different saddles.\n",
    "\n",
    "Both systems illustrate how simple **nonlinear differential equations** naturally lead to **homoclinic and heteroclinic behavior** in phase space."
   ]
  },
  {
   "cell_type": "code",
   "execution_count": null,
   "id": "97b85055-c387-4344-9c65-92fb15eabcbd",
   "metadata": {},
   "outputs": [],
   "source": []
  }
 ],
 "metadata": {
  "kernelspec": {
   "display_name": "Python 3 (ipykernel)",
   "language": "python",
   "name": "python3"
  },
  "language_info": {
   "codemirror_mode": {
    "name": "ipython",
    "version": 3
   },
   "file_extension": ".py",
   "mimetype": "text/x-python",
   "name": "python",
   "nbconvert_exporter": "python",
   "pygments_lexer": "ipython3",
   "version": "3.10.9"
  }
 },
 "nbformat": 4,
 "nbformat_minor": 5
}
